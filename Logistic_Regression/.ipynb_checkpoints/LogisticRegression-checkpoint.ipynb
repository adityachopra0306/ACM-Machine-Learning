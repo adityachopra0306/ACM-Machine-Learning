{
 "cells": [
  {
   "cell_type": "markdown",
   "id": "40b64872-14ed-47a6-8751-5af72ed16e2f",
   "metadata": {},
   "source": [
    "# Logistic Regression\n",
    "\n",
    "Logistic Regression is a Binary Classification Algorithm that is used when the target variable is categorical. It models the probability of a certain class (like 0 or 1) using a logistic(sigmoid) function.\n",
    "\n",
    "The goal of logistic regression is to find the best-fitting model that predicts the probability of an instance belonging to a particular class. The model outputs values between 0 and 1, which are interpreted as probabilities.\n",
    "\n",
    "The following program implements Logistic Regression using only NumPy, Pandas and MatPlotLib.\n"
   ]
  },
  {
   "cell_type": "markdown",
   "id": "7747bd22-de4d-452d-bca2-553d5dbb49dc",
   "metadata": {},
   "source": [
    "## Importing Libraries"
   ]
  },
  {
   "cell_type": "code",
   "execution_count": 1,
   "id": "aa362d2f-9725-456d-8d35-a5e82db66969",
   "metadata": {},
   "outputs": [],
   "source": [
    "import numpy as np\n",
    "import pandas as pd\n",
    "import matplotlib.pyplot as plt\n",
    "%matplotlib inline"
   ]
  },
  {
   "cell_type": "code",
   "execution_count": 2,
   "id": "69549232-6380-4aec-a410-69d9f2589338",
   "metadata": {},
   "outputs": [],
   "source": [
    "def sigmoid(z):\n",
    "    return 1/(1+np.exp(-z))"
   ]
  },
  {
   "cell_type": "markdown",
   "id": "2cbbdccb-04a7-4b1f-9fac-e9a37de01f49",
   "metadata": {},
   "source": [
    "## Loading Data"
   ]
  },
  {
   "cell_type": "code",
   "execution_count": 3,
   "id": "0c16d239-9c9d-47d5-9b05-632e4061946f",
   "metadata": {},
   "outputs": [
    {
     "data": {
      "text/html": [
       "<div>\n",
       "<style scoped>\n",
       "    .dataframe tbody tr th:only-of-type {\n",
       "        vertical-align: middle;\n",
       "    }\n",
       "\n",
       "    .dataframe tbody tr th {\n",
       "        vertical-align: top;\n",
       "    }\n",
       "\n",
       "    .dataframe thead th {\n",
       "        text-align: right;\n",
       "    }\n",
       "</style>\n",
       "<table border=\"1\" class=\"dataframe\">\n",
       "  <thead>\n",
       "    <tr style=\"text-align: right;\">\n",
       "      <th></th>\n",
       "      <th>User ID</th>\n",
       "      <th>Gender</th>\n",
       "      <th>Age</th>\n",
       "      <th>EstimatedSalary</th>\n",
       "      <th>Purchased</th>\n",
       "    </tr>\n",
       "  </thead>\n",
       "  <tbody>\n",
       "    <tr>\n",
       "      <th>0</th>\n",
       "      <td>15624510</td>\n",
       "      <td>Male</td>\n",
       "      <td>19</td>\n",
       "      <td>19000</td>\n",
       "      <td>0</td>\n",
       "    </tr>\n",
       "    <tr>\n",
       "      <th>1</th>\n",
       "      <td>15810944</td>\n",
       "      <td>Male</td>\n",
       "      <td>35</td>\n",
       "      <td>20000</td>\n",
       "      <td>0</td>\n",
       "    </tr>\n",
       "    <tr>\n",
       "      <th>2</th>\n",
       "      <td>15668575</td>\n",
       "      <td>Female</td>\n",
       "      <td>26</td>\n",
       "      <td>43000</td>\n",
       "      <td>0</td>\n",
       "    </tr>\n",
       "    <tr>\n",
       "      <th>3</th>\n",
       "      <td>15603246</td>\n",
       "      <td>Female</td>\n",
       "      <td>27</td>\n",
       "      <td>57000</td>\n",
       "      <td>0</td>\n",
       "    </tr>\n",
       "    <tr>\n",
       "      <th>4</th>\n",
       "      <td>15804002</td>\n",
       "      <td>Male</td>\n",
       "      <td>19</td>\n",
       "      <td>76000</td>\n",
       "      <td>0</td>\n",
       "    </tr>\n",
       "    <tr>\n",
       "      <th>...</th>\n",
       "      <td>...</td>\n",
       "      <td>...</td>\n",
       "      <td>...</td>\n",
       "      <td>...</td>\n",
       "      <td>...</td>\n",
       "    </tr>\n",
       "    <tr>\n",
       "      <th>395</th>\n",
       "      <td>15691863</td>\n",
       "      <td>Female</td>\n",
       "      <td>46</td>\n",
       "      <td>41000</td>\n",
       "      <td>1</td>\n",
       "    </tr>\n",
       "    <tr>\n",
       "      <th>396</th>\n",
       "      <td>15706071</td>\n",
       "      <td>Male</td>\n",
       "      <td>51</td>\n",
       "      <td>23000</td>\n",
       "      <td>1</td>\n",
       "    </tr>\n",
       "    <tr>\n",
       "      <th>397</th>\n",
       "      <td>15654296</td>\n",
       "      <td>Female</td>\n",
       "      <td>50</td>\n",
       "      <td>20000</td>\n",
       "      <td>1</td>\n",
       "    </tr>\n",
       "    <tr>\n",
       "      <th>398</th>\n",
       "      <td>15755018</td>\n",
       "      <td>Male</td>\n",
       "      <td>36</td>\n",
       "      <td>33000</td>\n",
       "      <td>0</td>\n",
       "    </tr>\n",
       "    <tr>\n",
       "      <th>399</th>\n",
       "      <td>15594041</td>\n",
       "      <td>Female</td>\n",
       "      <td>49</td>\n",
       "      <td>36000</td>\n",
       "      <td>1</td>\n",
       "    </tr>\n",
       "  </tbody>\n",
       "</table>\n",
       "<p>400 rows × 5 columns</p>\n",
       "</div>"
      ],
      "text/plain": [
       "      User ID  Gender  Age  EstimatedSalary  Purchased\n",
       "0    15624510    Male   19            19000          0\n",
       "1    15810944    Male   35            20000          0\n",
       "2    15668575  Female   26            43000          0\n",
       "3    15603246  Female   27            57000          0\n",
       "4    15804002    Male   19            76000          0\n",
       "..        ...     ...  ...              ...        ...\n",
       "395  15691863  Female   46            41000          1\n",
       "396  15706071    Male   51            23000          1\n",
       "397  15654296  Female   50            20000          1\n",
       "398  15755018    Male   36            33000          0\n",
       "399  15594041  Female   49            36000          1\n",
       "\n",
       "[400 rows x 5 columns]"
      ]
     },
     "execution_count": 3,
     "metadata": {},
     "output_type": "execute_result"
    }
   ],
   "source": [
    "CSVPATH = 'purchase.csv'\n",
    "df = pd.read_csv(CSVPATH)\n",
    "df"
   ]
  },
  {
   "cell_type": "code",
   "execution_count": 4,
   "id": "2f8c4125-d1c5-49f3-928b-d0b452353fcc",
   "metadata": {},
   "outputs": [],
   "source": [
    "df = df.drop('User ID', axis=1).dropna()"
   ]
  },
  {
   "cell_type": "code",
   "execution_count": 5,
   "id": "d9c7e72c-5d34-4c93-842f-2c78ec329461",
   "metadata": {},
   "outputs": [
    {
     "name": "stderr",
     "output_type": "stream",
     "text": [
      "/tmp/ipykernel_152833/2087688777.py:1: FutureWarning: Downcasting behavior in `replace` is deprecated and will be removed in a future version. To retain the old behavior, explicitly call `result.infer_objects(copy=False)`. To opt-in to the future behavior, set `pd.set_option('future.no_silent_downcasting', True)`\n",
      "  df['Gender'] = df['Gender'].replace({'Male':1,'Female':0})\n"
     ]
    }
   ],
   "source": [
    "df['Gender'] = df['Gender'].replace({'Male':1,'Female':0})"
   ]
  },
  {
   "cell_type": "markdown",
   "id": "42bfc06d-3739-4e12-a751-4d6f3b5a4918",
   "metadata": {},
   "source": [
    "## Pre-Processing"
   ]
  },
  {
   "cell_type": "code",
   "execution_count": 6,
   "id": "4f8cda4f-ba91-4b92-9c6b-d13ac8215d87",
   "metadata": {},
   "outputs": [],
   "source": [
    "dat = df.to_numpy()\n",
    "np.random.shuffle(dat)\n",
    "x = dat[:,0:-1]"
   ]
  },
  {
   "cell_type": "code",
   "execution_count": 7,
   "id": "66423c25-d587-482a-a81a-ef9df2c5ce23",
   "metadata": {},
   "outputs": [],
   "source": [
    "y = dat[:,-1]"
   ]
  },
  {
   "cell_type": "code",
   "execution_count": 8,
   "id": "9e4da5a0-5861-415d-84e7-32ed8c9170f0",
   "metadata": {},
   "outputs": [],
   "source": [
    "x_mean = x.mean(axis=0)\n",
    "x_std = x.std(axis=0)"
   ]
  },
  {
   "cell_type": "code",
   "execution_count": 9,
   "id": "032594f1-9886-441a-8cc7-c38bf2d62714",
   "metadata": {},
   "outputs": [],
   "source": [
    "x = x.astype(float)\n",
    "x[:,1:3] = (x[:,1:3]-x_mean[1:3])/x_std[1:3]\n",
    "x = np.hstack([np.ones((400,1)),x])"
   ]
  },
  {
   "cell_type": "code",
   "execution_count": 10,
   "id": "c8d5f333-80c5-4bf2-879d-cdeb76f6fde8",
   "metadata": {},
   "outputs": [
    {
     "name": "stdout",
     "output_type": "stream",
     "text": [
      "[[ 1.          0.         -0.25358736 -0.37418169]\n",
      " [ 1.          1.          0.70154394 -1.28449224]\n",
      " [ 1.          0.         -0.92217926 -0.96147882]\n",
      " ...\n",
      " [ 1.          1.          0.22397829 -0.25672226]\n",
      " [ 1.          0.         -0.15807423 -0.46227625]\n",
      " [ 1.          0.         -1.11320552 -0.78528968]]\n"
     ]
    }
   ],
   "source": [
    "l_train, l_test = 320,80\n",
    "train_x, test_x = x[0:l_train,:], x[l_train:,:]\n",
    "train_y, test_y = y[0:l_train], y[l_train:]\n",
    "print(train_x)"
   ]
  },
  {
   "cell_type": "markdown",
   "id": "34aa5ffe-62fb-48c6-ab88-13c82ea1d134",
   "metadata": {},
   "source": [
    "## Training- Batch Gradient Descent"
   ]
  },
  {
   "cell_type": "code",
   "execution_count": 11,
   "id": "e6cf093b-0797-4f3a-8bd7-21b4cd787669",
   "metadata": {},
   "outputs": [],
   "source": [
    "alpha = 0.01\n",
    "parameters = 3\n",
    "theta = np.zeros(parameters+1)\n",
    "prevcost = float('inf')\n",
    "threshold = 1e-6"
   ]
  },
  {
   "cell_type": "code",
   "execution_count": 12,
   "id": "ca75c6be-2fe6-4d0a-9f7e-63c28397436b",
   "metadata": {},
   "outputs": [],
   "source": [
    "while True:\n",
    "    hypothesis = sigmoid(train_x @ theta)\n",
    "    theta = theta + (alpha / l_train) * (train_x.T @ (train_y - hypothesis))\n",
    "    currcost = (1 / (2 * l_train)) * np.sum(np.square(train_y-hypothesis))\n",
    "    if currcost-prevcost <= threshold:\n",
    "        break\n",
    "    prevcost = currcost"
   ]
  },
  {
   "cell_type": "markdown",
   "id": "3b276128-c881-49fd-883a-d20de0f3ecfe",
   "metadata": {},
   "source": [
    "## Testing"
   ]
  },
  {
   "cell_type": "code",
   "execution_count": 13,
   "id": "6ab269c8-ba25-4b15-8a1c-630640456912",
   "metadata": {},
   "outputs": [
    {
     "name": "stdout",
     "output_type": "stream",
     "text": [
      "Test Accuracy: 81.25 %\n"
     ]
    }
   ],
   "source": [
    "test_predictions = sigmoid(test_x @ theta) >= 0.5\n",
    "accuracy = np.mean(test_predictions == test_y) * 100\n",
    "print(\"Test Accuracy:\", accuracy, \"%\")"
   ]
  },
  {
   "cell_type": "code",
   "execution_count": 14,
   "id": "d316a4fa-e400-46ec-a6fd-6ff25a1c7872",
   "metadata": {},
   "outputs": [
    {
     "data": {
      "text/plain": [
       "[<matplotlib.lines.Line2D at 0x79a4f153a4e0>]"
      ]
     },
     "execution_count": 14,
     "metadata": {},
     "output_type": "execute_result"
    },
    {
     "data": {
      "image/png": "[encoded data removed]",
      "text/plain": [
       "<Figure size 640x480 with 1 Axes>"
      ]
     },
     "metadata": {},
     "output_type": "display_data"
    }
   ],
   "source": [
    "plt.scatter(train_x[train_y==0][:,2],train_x[train_y==0][:,3],color=\"red\")\n",
    "plt.scatter(train_x[train_y==1][:,2],train_x[train_y==1][:,3],color=\"blue\")\n",
    "\n",
    "x1_min = train_x[:, 2].min()\n",
    "x1_max = train_x[:, 2].max()\n",
    "\n",
    "x2_min = (-theta[2] * x1_min - theta[0]) / theta[3]\n",
    "x2_max = (-theta[2] * x1_max - theta[0]) / theta[3]\n",
    "plt.plot([x1_min, x1_max], [x2_min, x2_max], color=\"black\", lw=5)"
   ]
  }
 ],
 "metadata": {
  "kernelspec": {
   "display_name": "Python 3 (ipykernel)",
   "language": "python",
   "name": "python3"
  },
  "language_info": {
   "codemirror_mode": {
    "name": "ipython",
    "version": 3
   },
   "file_extension": ".py",
   "mimetype": "text/x-python",
   "name": "python",
   "nbconvert_exporter": "python",
   "pygments_lexer": "ipython3",
   "version": "3.12.3"
  }
 },
 "nbformat": 4,
 "nbformat_minor": 5
}
